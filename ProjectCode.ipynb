{
 "cells": [
  {
   "cell_type": "markdown",
   "metadata": {},
   "source": [
    "## A Bayesian Network Approach to Improving Student Performance for College Admission"
   ]
  },
  {
   "cell_type": "code",
   "execution_count": 18,
   "metadata": {},
   "outputs": [],
   "source": [
    "#import necessary packages\n",
    "import math\n",
    "from pomegranate import *\n",
    "import matplotlib"
   ]
  },
  {
   "cell_type": "markdown",
   "metadata": {},
   "source": [
    "#### Assigining probabilities and conditional probabilities"
   ]
  },
  {
   "cell_type": "code",
   "execution_count": 4,
   "metadata": {},
   "outputs": [],
   "source": [
    "prep = DiscreteDistribution({'Yes':1/4, 'No':3/4})\n",
    "prev = DiscreteDistribution({'Good':1/2, 'Bad':1/2})\n",
    "iq = DiscreteDistribution({'High':1/2, 'Low':1/2})\n",
    "rec = DiscreteDistribution({'1':1/2, '2':1/3, '3':1/6})"
   ]
  },
  {
   "cell_type": "code",
   "execution_count": 5,
   "metadata": {},
   "outputs": [],
   "source": [
    "sat = ConditionalProbabilityTable(\n",
    "    [['Yes', 'Good', 'High', 0.8],\n",
    "    [ 'Yes', 'Good', 'Low', 0.2],\n",
    "    [ 'Yes', 'Bad', 'High', 0.6],\n",
    "    [ 'Yes', 'Bad', 'Low', 0.4],\n",
    "    [ 'No', 'Good', 'High', 0.5],\n",
    "    [ 'No', 'Good', 'Low', 0.5],\n",
    "    [ 'No', 'Bad', 'High', 0.1],\n",
    "    [ 'No', 'Bad', 'Low', 0.9]], [prep, prev])"
   ]
  },
  {
   "cell_type": "code",
   "execution_count": 6,
   "metadata": {},
   "outputs": [],
   "source": [
    "grade = ConditionalProbabilityTable(\n",
    "    [['High', 'High', 'High', 0.9],\n",
    "    [ 'High', 'High', 'Low', 0.1],\n",
    "    [ 'High', 'Low', 'High', 0.6],\n",
    "    [ 'High', 'Low', 'Low', 0.4],\n",
    "    [ 'Low', 'High', 'High', 0.5],\n",
    "    [ 'Low', 'High', 'Low', 0.5],\n",
    "    [ 'Low', 'Low', 'High', 0.1],\n",
    "    [ 'Low', 'Low', 'Low', 0.9]], [sat, iq])"
   ]
  },
  {
   "cell_type": "code",
   "execution_count": 7,
   "metadata": {},
   "outputs": [],
   "source": [
    "admit = ConditionalProbabilityTable(\n",
    "    [['High', '1', 'High', 0.7],\n",
    "     ['High', '1', 'Low', 0.3],\n",
    "     ['High', '2', 'High', 0.8],\n",
    "     ['High', '2', 'Low', 0.2],\n",
    "     ['High', '3', 'High', 0.9],\n",
    "     ['High', '3', 'Low', 0.1],\n",
    "     ['Low', '1', 'High', 0.1],\n",
    "     ['Low', '1', 'Low', 0.9],\n",
    "     ['Low', '2', 'High', 0.2],\n",
    "     ['Low', '2', 'Low', 0.8],\n",
    "     ['Low', '3', 'High', 0.7],\n",
    "     ['Low', '3', 'Low', 0.3]], [grade, rec])"
   ]
  },
  {
   "cell_type": "markdown",
   "metadata": {},
   "source": [
    "#### Creating the nodes and edges of the Bayesian Network"
   ]
  },
  {
   "cell_type": "code",
   "execution_count": 8,
   "metadata": {},
   "outputs": [],
   "source": [
    "d1 = State(prep, name=\"prep\")\n",
    "d2 = State(prev, name=\"prev\")\n",
    "d3 = State(sat, name=\"sat\")\n",
    "d4 = State(iq, name=\"iq\")\n",
    "d5 = State(grade, name=\"grade\")\n",
    "d6 = State(rec, name=\"rec\")\n",
    "d7 = State(admit, name=\"admit\")"
   ]
  },
  {
   "cell_type": "code",
   "execution_count": 9,
   "metadata": {},
   "outputs": [],
   "source": [
    "network = BayesianNetwork(\"Student Performance Analysis with Bayesian Networks\")\n",
    "network.add_states(d1, d2, d3, d4, d5, d6, d7)\n",
    "network.add_edge(d1, d3)\n",
    "network.add_edge(d2, d3)\n",
    "network.add_edge(d4, d5)\n",
    "network.add_edge(d3, d5)\n",
    "network.add_edge(d5, d7)\n",
    "network.add_edge(d6, d7)\n",
    "network.bake()"
   ]
  },
  {
   "cell_type": "markdown",
   "metadata": {},
   "source": [
    "#### Predictions"
   ]
  },
  {
   "cell_type": "markdown",
   "metadata": {},
   "source": [
    "##### Example 1: A student with a high IQ, good previous SAT scores, and who completed an SAT prep course"
   ]
  },
  {
   "cell_type": "code",
   "execution_count": 10,
   "metadata": {},
   "outputs": [],
   "source": [
    "beliefs = network.predict_proba({\n",
    "    'prep': 'Yes',\n",
    "    'prev': \"Good\",\n",
    "    'iq': \"High\",\n",
    "})"
   ]
  },
  {
   "cell_type": "code",
   "execution_count": 11,
   "metadata": {},
   "outputs": [
    {
     "name": "stdout",
     "output_type": "stream",
     "text": [
      "preptYesprevtGoodsatt{\n",
      "    \"class\" : \"Distribution\",\n",
      "    \"dtype\" : \"str\",\n",
      "    \"name\" : \"DiscreteDistribution\",\n",
      "    \"parameters\" : [\n",
      "        {\n",
      "            \"Low\" : 0.20000000000000032,\n",
      "            \"High\" : 0.7999999999999998\n",
      "        }\n",
      "    ],\n",
      "    \"frozen\" : false\n",
      "}iqtHighgradet{\n",
      "    \"class\" : \"Distribution\",\n",
      "    \"dtype\" : \"str\",\n",
      "    \"name\" : \"DiscreteDistribution\",\n",
      "    \"parameters\" : [\n",
      "        {\n",
      "            \"Low\" : 0.18000000000000047,\n",
      "            \"High\" : 0.8199999999999996\n",
      "        }\n",
      "    ],\n",
      "    \"frozen\" : false\n",
      "}rect{\n",
      "    \"class\" : \"Distribution\",\n",
      "    \"dtype\" : \"str\",\n",
      "    \"name\" : \"DiscreteDistribution\",\n",
      "    \"parameters\" : [\n",
      "        {\n",
      "            \"1\" : 0.4999999999999998,\n",
      "            \"2\" : 0.3333333333333334,\n",
      "            \"3\" : 0.1666666666666669\n",
      "        }\n",
      "    ],\n",
      "    \"frozen\" : false\n",
      "}admitt{\n",
      "    \"class\" : \"Distribution\",\n",
      "    \"dtype\" : \"str\",\n",
      "    \"name\" : \"DiscreteDistribution\",\n",
      "    \"parameters\" : [\n",
      "        {\n",
      "            \"Low\" : 0.32933333333333353,\n",
      "            \"High\" : 0.6706666666666665\n",
      "        }\n",
      "    ],\n",
      "    \"frozen\" : false\n",
      "}\n"
     ]
    }
   ],
   "source": [
    "print(\"\".join( \"{}t{}\".format( state.name, str(belief) ) for state, belief in zip( network.states, beliefs )))"
   ]
  },
  {
   "cell_type": "markdown",
   "metadata": {},
   "source": [
    "##### Example 2: A student with a high IQ (no other information)"
   ]
  },
  {
   "cell_type": "code",
   "execution_count": 12,
   "metadata": {},
   "outputs": [],
   "source": [
    "beliefs = network.predict_proba({\n",
    "    'iq': \"High\",\n",
    "})"
   ]
  },
  {
   "cell_type": "code",
   "execution_count": 13,
   "metadata": {},
   "outputs": [
    {
     "name": "stdout",
     "output_type": "stream",
     "text": [
      "prept{\n",
      "    \"class\" : \"Distribution\",\n",
      "    \"dtype\" : \"str\",\n",
      "    \"name\" : \"DiscreteDistribution\",\n",
      "    \"parameters\" : [\n",
      "        {\n",
      "            \"Yes\" : 0.2500000000000002,\n",
      "            \"No\" : 0.7499999999999998\n",
      "        }\n",
      "    ],\n",
      "    \"frozen\" : false\n",
      "}prevt{\n",
      "    \"class\" : \"Distribution\",\n",
      "    \"dtype\" : \"str\",\n",
      "    \"name\" : \"DiscreteDistribution\",\n",
      "    \"parameters\" : [\n",
      "        {\n",
      "            \"Good\" : 0.4999999999999999,\n",
      "            \"Bad\" : 0.5\n",
      "        }\n",
      "    ],\n",
      "    \"frozen\" : false\n",
      "}satt{\n",
      "    \"class\" : \"Distribution\",\n",
      "    \"dtype\" : \"str\",\n",
      "    \"name\" : \"DiscreteDistribution\",\n",
      "    \"parameters\" : [\n",
      "        {\n",
      "            \"Low\" : 0.5999999999999999,\n",
      "            \"High\" : 0.4000000000000001\n",
      "        }\n",
      "    ],\n",
      "    \"frozen\" : false\n",
      "}iqtHighgradet{\n",
      "    \"class\" : \"Distribution\",\n",
      "    \"dtype\" : \"str\",\n",
      "    \"name\" : \"DiscreteDistribution\",\n",
      "    \"parameters\" : [\n",
      "        {\n",
      "            \"Low\" : 0.34000000000000025,\n",
      "            \"High\" : 0.6599999999999997\n",
      "        }\n",
      "    ],\n",
      "    \"frozen\" : false\n",
      "}rect{\n",
      "    \"class\" : \"Distribution\",\n",
      "    \"dtype\" : \"str\",\n",
      "    \"name\" : \"DiscreteDistribution\",\n",
      "    \"parameters\" : [\n",
      "        {\n",
      "            \"1\" : 0.4999999999999998,\n",
      "            \"2\" : 0.3333333333333334,\n",
      "            \"3\" : 0.16666666666666688\n",
      "        }\n",
      "    ],\n",
      "    \"frozen\" : false\n",
      "}admitt{\n",
      "    \"class\" : \"Distribution\",\n",
      "    \"dtype\" : \"str\",\n",
      "    \"name\" : \"DiscreteDistribution\",\n",
      "    \"parameters\" : [\n",
      "        {\n",
      "            \"Low\" : 0.4146666666666668,\n",
      "            \"High\" : 0.5853333333333332\n",
      "        }\n",
      "    ],\n",
      "    \"frozen\" : false\n",
      "}\n"
     ]
    }
   ],
   "source": [
    "print(\"\".join( \"{}t{}\".format( state.name, str(belief) ) for state, belief in zip( network.states, beliefs )))"
   ]
  },
  {
   "cell_type": "markdown",
   "metadata": {},
   "source": [
    "##### Example 3: Student with high IQ but low SAT score"
   ]
  },
  {
   "cell_type": "code",
   "execution_count": 14,
   "metadata": {},
   "outputs": [],
   "source": [
    "beliefs = network.predict_proba({\n",
    "    'sat': \"Low\",\n",
    "    'iq': \"High\",\n",
    "})"
   ]
  },
  {
   "cell_type": "code",
   "execution_count": 15,
   "metadata": {},
   "outputs": [
    {
     "name": "stdout",
     "output_type": "stream",
     "text": [
      "prept{\n",
      "    \"class\" : \"Distribution\",\n",
      "    \"dtype\" : \"str\",\n",
      "    \"name\" : \"DiscreteDistribution\",\n",
      "    \"parameters\" : [\n",
      "        {\n",
      "            \"Yes\" : 0.1250000000000002,\n",
      "            \"No\" : 0.8749999999999998\n",
      "        }\n",
      "    ],\n",
      "    \"frozen\" : false\n",
      "}prevt{\n",
      "    \"class\" : \"Distribution\",\n",
      "    \"dtype\" : \"str\",\n",
      "    \"name\" : \"DiscreteDistribution\",\n",
      "    \"parameters\" : [\n",
      "        {\n",
      "            \"Good\" : 0.3541666666666667,\n",
      "            \"Bad\" : 0.6458333333333334\n",
      "        }\n",
      "    ],\n",
      "    \"frozen\" : false\n",
      "}sattLowiqtHighgradet{\n",
      "    \"class\" : \"Distribution\",\n",
      "    \"dtype\" : \"str\",\n",
      "    \"name\" : \"DiscreteDistribution\",\n",
      "    \"parameters\" : [\n",
      "        {\n",
      "            \"Low\" : 0.5000000000000001,\n",
      "            \"High\" : 0.4999999999999999\n",
      "        }\n",
      "    ],\n",
      "    \"frozen\" : false\n",
      "}rect{\n",
      "    \"class\" : \"Distribution\",\n",
      "    \"dtype\" : \"str\",\n",
      "    \"name\" : \"DiscreteDistribution\",\n",
      "    \"parameters\" : [\n",
      "        {\n",
      "            \"1\" : 0.4999999999999998,\n",
      "            \"2\" : 0.3333333333333333,\n",
      "            \"3\" : 0.16666666666666685\n",
      "        }\n",
      "    ],\n",
      "    \"frozen\" : false\n",
      "}admitt{\n",
      "    \"class\" : \"Distribution\",\n",
      "    \"dtype\" : \"str\",\n",
      "    \"name\" : \"DiscreteDistribution\",\n",
      "    \"parameters\" : [\n",
      "        {\n",
      "            \"Low\" : 0.5,\n",
      "            \"High\" : 0.5\n",
      "        }\n",
      "    ],\n",
      "    \"frozen\" : false\n",
      "}\n"
     ]
    }
   ],
   "source": [
    "print(\"\".join( \"{}t{}\".format( state.name, str(belief) ) for state, belief in zip( network.states, beliefs )))"
   ]
  },
  {
   "cell_type": "markdown",
   "metadata": {},
   "source": [
    "##### Example 3 (extended): Same student as above, but with 3 letters of recommendation"
   ]
  },
  {
   "cell_type": "code",
   "execution_count": 16,
   "metadata": {},
   "outputs": [],
   "source": [
    "beliefs = network.predict_proba({\n",
    "    'sat': 'Low',\n",
    "    'rec': \"3\",\n",
    "    'iq': \"High\",\n",
    "})"
   ]
  },
  {
   "cell_type": "code",
   "execution_count": 17,
   "metadata": {},
   "outputs": [
    {
     "name": "stdout",
     "output_type": "stream",
     "text": [
      "prept{\n",
      "    \"class\" : \"Distribution\",\n",
      "    \"dtype\" : \"str\",\n",
      "    \"name\" : \"DiscreteDistribution\",\n",
      "    \"parameters\" : [\n",
      "        {\n",
      "            \"Yes\" : 0.1250000000000002,\n",
      "            \"No\" : 0.8749999999999998\n",
      "        }\n",
      "    ],\n",
      "    \"frozen\" : false\n",
      "}prevt{\n",
      "    \"class\" : \"Distribution\",\n",
      "    \"dtype\" : \"str\",\n",
      "    \"name\" : \"DiscreteDistribution\",\n",
      "    \"parameters\" : [\n",
      "        {\n",
      "            \"Good\" : 0.3541666666666667,\n",
      "            \"Bad\" : 0.6458333333333334\n",
      "        }\n",
      "    ],\n",
      "    \"frozen\" : false\n",
      "}sattLowiqtHighgradet{\n",
      "    \"class\" : \"Distribution\",\n",
      "    \"dtype\" : \"str\",\n",
      "    \"name\" : \"DiscreteDistribution\",\n",
      "    \"parameters\" : [\n",
      "        {\n",
      "            \"Low\" : 0.4999999999999998,\n",
      "            \"High\" : 0.5000000000000001\n",
      "        }\n",
      "    ],\n",
      "    \"frozen\" : false\n",
      "}rect3admitt{\n",
      "    \"class\" : \"Distribution\",\n",
      "    \"dtype\" : \"str\",\n",
      "    \"name\" : \"DiscreteDistribution\",\n",
      "    \"parameters\" : [\n",
      "        {\n",
      "            \"Low\" : 0.20000000000000007,\n",
      "            \"High\" : 0.7999999999999999\n",
      "        }\n",
      "    ],\n",
      "    \"frozen\" : false\n",
      "}\n"
     ]
    }
   ],
   "source": [
    "print(\"\".join( \"{}t{}\".format( state.name, str(belief) ) for state, belief in zip( network.states, beliefs )))"
   ]
  },
  {
   "cell_type": "code",
   "execution_count": null,
   "metadata": {},
   "outputs": [],
   "source": []
  }
 ],
 "metadata": {
  "kernelspec": {
   "display_name": "Python 3",
   "language": "python",
   "name": "python3"
  },
  "language_info": {
   "codemirror_mode": {
    "name": "ipython",
    "version": 3
   },
   "file_extension": ".py",
   "mimetype": "text/x-python",
   "name": "python",
   "nbconvert_exporter": "python",
   "pygments_lexer": "ipython3",
   "version": "3.8.8"
  }
 },
 "nbformat": 4,
 "nbformat_minor": 4
}
